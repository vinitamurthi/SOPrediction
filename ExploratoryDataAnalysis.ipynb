{
 "cells": [
  {
   "cell_type": "code",
   "execution_count": 17,
   "metadata": {
    "collapsed": true
   },
   "outputs": [],
   "source": [
    "import collections\n",
    "import pandas as pd\n",
    "import numpy as np\n",
    "import matplotlib.pyplot as plt\n",
    "import matplotlib.cm as cm\n",
    "%matplotlib inline\n",
    "import math"
   ]
  },
  {
   "cell_type": "code",
   "execution_count": 18,
   "metadata": {
    "collapsed": false
   },
   "outputs": [],
   "source": [
    "questions = pd.read_csv(\"TrainQuestions.csv\", encoding='latin1')\n",
    "answers = pd.read_csv(\"TrainAnswers.csv\", encoding='latin1')\n",
    "tags = pd.read_csv(\"TrainTags.csv\", encoding='latin1')"
   ]
  },
  {
   "cell_type": "code",
   "execution_count": 19,
   "metadata": {
    "collapsed": false
   },
   "outputs": [
    {
     "name": "stdout",
     "output_type": "stream",
     "text": [
      "70000\n"
     ]
    },
    {
     "data": {
      "text/html": [
       "<div>\n",
       "<table border=\"1\" class=\"dataframe\">\n",
       "  <thead>\n",
       "    <tr style=\"text-align: right;\">\n",
       "      <th></th>\n",
       "      <th>Unnamed: 0</th>\n",
       "      <th>Id</th>\n",
       "      <th>OwnerUserId</th>\n",
       "      <th>CreationDate</th>\n",
       "      <th>ClosedDate</th>\n",
       "      <th>Score</th>\n",
       "      <th>Title</th>\n",
       "      <th>Body</th>\n",
       "    </tr>\n",
       "  </thead>\n",
       "  <tbody>\n",
       "    <tr>\n",
       "      <th>0</th>\n",
       "      <td>468132</td>\n",
       "      <td>16380020</td>\n",
       "      <td>1367923.0</td>\n",
       "      <td>2013-05-04T23:50:24Z</td>\n",
       "      <td>NaN</td>\n",
       "      <td>4</td>\n",
       "      <td>0x800a139e - JavaScript runtime error: cannot ...</td>\n",
       "      <td>&lt;p&gt;I have cancel button that is not working pr...</td>\n",
       "    </tr>\n",
       "  </tbody>\n",
       "</table>\n",
       "</div>"
      ],
      "text/plain": [
       "   Unnamed: 0        Id  OwnerUserId          CreationDate ClosedDate  Score  \\\n",
       "0      468132  16380020    1367923.0  2013-05-04T23:50:24Z        NaN      4   \n",
       "\n",
       "                                               Title  \\\n",
       "0  0x800a139e - JavaScript runtime error: cannot ...   \n",
       "\n",
       "                                                Body  \n",
       "0  <p>I have cancel button that is not working pr...  "
      ]
     },
     "execution_count": 19,
     "metadata": {},
     "output_type": "execute_result"
    }
   ],
   "source": [
    "print(len(questions))\n",
    "questions.iloc[[0]]"
   ]
  },
  {
   "cell_type": "code",
   "execution_count": 20,
   "metadata": {
    "collapsed": false
   },
   "outputs": [
    {
     "data": {
      "text/html": [
       "<div>\n",
       "<table border=\"1\" class=\"dataframe\">\n",
       "  <thead>\n",
       "    <tr style=\"text-align: right;\">\n",
       "      <th></th>\n",
       "      <th>Unnamed: 0</th>\n",
       "      <th>Id</th>\n",
       "      <th>OwnerUserId</th>\n",
       "      <th>CreationDate</th>\n",
       "      <th>ParentId</th>\n",
       "      <th>Score</th>\n",
       "      <th>Body</th>\n",
       "    </tr>\n",
       "  </thead>\n",
       "  <tbody>\n",
       "    <tr>\n",
       "      <th>0</th>\n",
       "      <td>18</td>\n",
       "      <td>818</td>\n",
       "      <td>233.0</td>\n",
       "      <td>2008-08-03T20:45:27Z</td>\n",
       "      <td>810</td>\n",
       "      <td>0</td>\n",
       "      <td>&lt;p&gt;I'm partway to my solution with this entry ...</td>\n",
       "    </tr>\n",
       "  </tbody>\n",
       "</table>\n",
       "</div>"
      ],
      "text/plain": [
       "   Unnamed: 0   Id  OwnerUserId          CreationDate  ParentId  Score  \\\n",
       "0          18  818        233.0  2008-08-03T20:45:27Z       810      0   \n",
       "\n",
       "                                                Body  \n",
       "0  <p>I'm partway to my solution with this entry ...  "
      ]
     },
     "execution_count": 20,
     "metadata": {},
     "output_type": "execute_result"
    }
   ],
   "source": [
    "\n",
    "answers.iloc[[0]]"
   ]
  },
  {
   "cell_type": "code",
   "execution_count": 21,
   "metadata": {
    "collapsed": false
   },
   "outputs": [
    {
     "data": {
      "text/html": [
       "<div>\n",
       "<table border=\"1\" class=\"dataframe\">\n",
       "  <thead>\n",
       "    <tr style=\"text-align: right;\">\n",
       "      <th></th>\n",
       "      <th>Unnamed: 0</th>\n",
       "      <th>Id</th>\n",
       "      <th>Tag</th>\n",
       "    </tr>\n",
       "  </thead>\n",
       "  <tbody>\n",
       "    <tr>\n",
       "      <th>0</th>\n",
       "      <td>31</td>\n",
       "      <td>810</td>\n",
       "      <td>windows</td>\n",
       "    </tr>\n",
       "  </tbody>\n",
       "</table>\n",
       "</div>"
      ],
      "text/plain": [
       "   Unnamed: 0   Id      Tag\n",
       "0          31  810  windows"
      ]
     },
     "execution_count": 21,
     "metadata": {},
     "output_type": "execute_result"
    }
   ],
   "source": [
    "tags.iloc[[0]]"
   ]
  },
  {
   "cell_type": "code",
   "execution_count": 7,
   "metadata": {
    "collapsed": false
   },
   "outputs": [
    {
     "data": {
      "text/html": [
       "<div>\n",
       "<table border=\"1\" class=\"dataframe\">\n",
       "  <thead>\n",
       "    <tr style=\"text-align: right;\">\n",
       "      <th></th>\n",
       "      <th>Id</th>\n",
       "      <th>OwnerUserId</th>\n",
       "      <th>CreationDate</th>\n",
       "      <th>ParentId</th>\n",
       "      <th>Score</th>\n",
       "      <th>Body</th>\n",
       "    </tr>\n",
       "  </thead>\n",
       "  <tbody>\n",
       "    <tr>\n",
       "      <th>1</th>\n",
       "      <td>124</td>\n",
       "      <td>26.0</td>\n",
       "      <td>2008-08-01T16:09:47Z</td>\n",
       "      <td>80</td>\n",
       "      <td>12</td>\n",
       "      <td>&lt;p&gt;I wound up using this. It is a kind of a ha...</td>\n",
       "    </tr>\n",
       "    <tr>\n",
       "      <th>336</th>\n",
       "      <td>10008</td>\n",
       "      <td>1109.0</td>\n",
       "      <td>2008-08-13T16:09:09Z</td>\n",
       "      <td>80</td>\n",
       "      <td>6</td>\n",
       "      <td>&lt;p&gt;The &lt;a href=\"http://en.wikipedia.org/wiki/S...</td>\n",
       "    </tr>\n",
       "    <tr>\n",
       "      <th>219787</th>\n",
       "      <td>3770976</td>\n",
       "      <td>364174.0</td>\n",
       "      <td>2010-09-22T15:37:30Z</td>\n",
       "      <td>80</td>\n",
       "      <td>1</td>\n",
       "      <td>&lt;p&gt;What about making your delimiter something ...</td>\n",
       "    </tr>\n",
       "  </tbody>\n",
       "</table>\n",
       "</div>"
      ],
      "text/plain": [
       "             Id  OwnerUserId          CreationDate  ParentId  Score  \\\n",
       "1           124         26.0  2008-08-01T16:09:47Z        80     12   \n",
       "336       10008       1109.0  2008-08-13T16:09:09Z        80      6   \n",
       "219787  3770976     364174.0  2010-09-22T15:37:30Z        80      1   \n",
       "\n",
       "                                                     Body  \n",
       "1       <p>I wound up using this. It is a kind of a ha...  \n",
       "336     <p>The <a href=\"http://en.wikipedia.org/wiki/S...  \n",
       "219787  <p>What about making your delimiter something ...  "
      ]
     },
     "execution_count": 7,
     "metadata": {},
     "output_type": "execute_result"
    }
   ],
   "source": [
    "answers[answers['ParentId']==80]"
   ]
  },
  {
   "cell_type": "raw",
   "metadata": {
    "collapsed": true
   },
   "source": [
    "idxs = np.random.choice(range(1264216),70000)\n",
    "print(idxs)\n",
    "considered_questions= questions.iloc[idxs]\n",
    "considered_questions.to_csv(\"TrainQuestions.csv\")\n",
    "print(len(considered_questions))\n",
    "considered_answers = answers[answers['ParentId'].isin(considered_questions['Id'])]\n",
    "print(len(considered_answers))\n",
    "considered_answers.to_csv(\"TrainAnswers.csv\")\n",
    "considered_tags = tags[tags['Id'].isin(considered_questions['Id'])]\n",
    "print(len(considered_tags))\n",
    "considered_tags.to_csv(\"TrainTags.csv\")"
   ]
  },
  {
   "cell_type": "code",
   "execution_count": null,
   "metadata": {
    "collapsed": true
   },
   "outputs": [],
   "source": []
  }
 ],
 "metadata": {
  "anaconda-cloud": {},
  "kernelspec": {
   "display_name": "Python [default]",
   "language": "python",
   "name": "python3"
  },
  "language_info": {
   "codemirror_mode": {
    "name": "ipython",
    "version": 3
   },
   "file_extension": ".py",
   "mimetype": "text/x-python",
   "name": "python",
   "nbconvert_exporter": "python",
   "pygments_lexer": "ipython3",
   "version": "3.5.2"
  }
 },
 "nbformat": 4,
 "nbformat_minor": 1
}
