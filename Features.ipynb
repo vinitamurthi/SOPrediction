{
 "cells": [
  {
   "cell_type": "code",
   "execution_count": 1,
   "metadata": {
    "collapsed": false
   },
   "outputs": [],
   "source": [
    "from bs4 import BeautifulSoup\n",
    "import pandas as pd\n",
    "import numpy as np"
   ]
  },
  {
   "cell_type": "code",
   "execution_count": 2,
   "metadata": {
    "collapsed": false
   },
   "outputs": [],
   "source": [
    "questions = pd.read_csv(\"input/TrainQuestions.csv\", encoding='latin1')\n",
    "answers = pd.read_csv(\"input/TrainAnswers.csv\", encoding='latin1')\n",
    "tags = pd.read_csv(\"input/TrainTags.csv\", encoding='latin1')\n",
    "users = pd.read_csv(\"users.csv\", encoding='latin1')\n"
   ]
  },
  {
   "cell_type": "code",
   "execution_count": 9,
   "metadata": {
    "collapsed": false
   },
   "outputs": [],
   "source": [
    "def feature(data):\n",
    "    global users\n",
    "    feat = [1]\n",
    "    #Getting Body related Features\n",
    "    soup = BeautifulSoup(data['Body'],\"lxml\")\n",
    "    numtags = len(set([tag.name for tag in soup.body.findAll(True)]))\n",
    "    isimage = 1 if soup.body.findAll(\"img\") else 0\n",
    "    islink = 1 if soup.body.findAll(\"a\") else 0\n",
    "    iscode = 1 if (soup.body.findAll(\"code\") or soup.body.findAll(\"pre\")) else 0\n",
    "    feat.extend([numtags,isimage,islink,iscode])\n",
    "    \n",
    "    #Getting number of words in title\n",
    "    titleWords = list(filter(None, re.split(\"[, \\-!?:]+\", data['Title'])))\n",
    "    feat.append(len(titleWords))\n",
    "\n",
    "    #Getting User related Features\n",
    "    badges = -1\n",
    "    reputation = -1\n",
    "    accept_rate = -1\n",
    "    if not np.isnan(data['OwnerUserId']) and int(data['OwnerUserId']) in users['User Id'].values:\n",
    "        ownerdata = users.loc[users['User Id']==int(data['OwnerUserId'])].iloc[0]\n",
    "        badges = ownerdata['Bronze Badges'] + ownerdata['Silver Badges'] + ownerdata['Gold Badges']\n",
    "        reputation = ownerdata['Reputation']\n",
    "        accept_rate = ownerdata['Accept Rate']\n",
    "    feat.extend([badges, reputation, accept_rate])\n",
    "    return feat"
   ]
  },
  {
   "cell_type": "code",
   "execution_count": 12,
   "metadata": {
    "collapsed": false
   },
   "outputs": [
    {
     "name": "stdout",
     "output_type": "stream",
     "text": [
      "[1, 2, 0, 0, 1, 36, 520, 83.0]\n",
      "1036606.0\n",
      "   Unnamed: 0  Bronze Badges  Silver Badges  Gold Badges  Account Id  \\\n",
      "9           9             25             11            0     1010392   \n",
      "\n",
      "  Is Employee  Reputation  User Id  Accept Rate  \n",
      "9       False         520  1036606         83.0  \n"
     ]
    },
    {
     "data": {
      "text/plain": [
       "Unnamed: 0                                                 234318\n",
       "Id                                                        8767810\n",
       "OwnerUserId                                           1.03661e+06\n",
       "CreationDate                                 2012-01-07T06:14:39Z\n",
       "ClosedDate                                                    NaN\n",
       "Score                                                           1\n",
       "Title                Compiling a static QT application on Windows\n",
       "Body            <p>I am new to QT and I am enjoying the experi...\n",
       "Name: 0, dtype: object"
      ]
     },
     "execution_count": 12,
     "metadata": {},
     "output_type": "execute_result"
    }
   ],
   "source": [
    "#X = [feature(questions.iloc[d]) for d in range(len(questions))]\n",
    "X = feature(questions.iloc[0])\n",
    "print(X)\n",
    "print(questions.iloc[0]['OwnerUserId'])\n",
    "print(users.loc[users['User Id']==1036606])\n",
    "questions.iloc[0]"
   ]
  },
  {
   "cell_type": "code",
   "execution_count": 6,
   "metadata": {
    "collapsed": false
   },
   "outputs": [
    {
     "name": "stdout",
     "output_type": "stream",
     "text": [
      "144938 144716\n",
      "557846\n",
      "221\n",
      "Empty DataFrame\n",
      "Columns: [Unnamed: 0, Bronze Badges, Silver Badges, Gold Badges, Account Id, Is Employee, Reputation, User Id, Accept Rate]\n",
      "Index: []\n"
     ]
    }
   ],
   "source": [
    "userids = questions['OwnerUserId'].unique()\n",
    "owneruserids = [int(x) for x in userids if not np.isnan(x)]\n",
    "scrapeduserids = users['User Id'].unique()\n",
    "\n",
    "print(len(userids),len(users))\n",
    "not_present = 0\n",
    "for i in owneruserids:\n",
    "    if i not in users['User Id'].values:\n",
    "        if not_present == 0:\n",
    "            print (i)\n",
    "        not_present += 1\n",
    "print(not_present)\n",
    "print(users.loc[users['User Id']==557846])\n"
   ]
  },
  {
   "cell_type": "code",
   "execution_count": null,
   "metadata": {
    "collapsed": true
   },
   "outputs": [],
   "source": []
  }
 ],
 "metadata": {
  "anaconda-cloud": {},
  "kernelspec": {
   "display_name": "Python [default]",
   "language": "python",
   "name": "python3"
  },
  "language_info": {
   "codemirror_mode": {
    "name": "ipython",
    "version": 3
   },
   "file_extension": ".py",
   "mimetype": "text/x-python",
   "name": "python",
   "nbconvert_exporter": "python",
   "pygments_lexer": "ipython3",
   "version": "3.5.2"
  }
 },
 "nbformat": 4,
 "nbformat_minor": 1
}
