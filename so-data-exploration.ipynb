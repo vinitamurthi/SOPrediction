{
 "cells": [
  {
   "cell_type": "code",
   "execution_count": 1,
   "metadata": {
    "collapsed": true
   },
   "outputs": [],
   "source": [
    "import pandas as pd\n",
    "import os\n",
    "import copy\n",
    "import matplotlib.pyplot as plt\n",
    "from datetime import datetime\n",
    "import math\n",
    "import numpy as np"
   ]
  },
  {
   "cell_type": "code",
   "execution_count": 2,
   "metadata": {},
   "outputs": [],
   "source": [
    "basepath = os.getcwd() + '/assignment2'\n",
    "tagsFilepath = basepath + '/input/TrainTags.csv'\n",
    "tagsFeaturesFilePath = basepath + '/SOPrediction/generated_data/tags_features.csv'\n",
    "usersFilePath = basepath + '/SOPrediction/generated_data/users.csv'\n",
    "ansFilepath = basepath + '/input/TrainAnswers.csv'\n",
    "qnsFilepath = basepath + '/input/TrainQuestions.csv'\n",
    "tagsData = pd.read_csv(tagsFilepath, encoding='latin1')\n",
    "tagsFeaturesData = pd.read_csv(tagsFeaturesFilePath, encoding='latin1')\n",
    "qnsData = pd.read_csv(qnsFilepath, encoding='latin1')\n",
    "ansData = pd.read_csv(ansFilepath, encoding='latin1')\n",
    "usersData = pd.read_csv(usersFilePath, encoding='latin1')"
   ]
  },
  {
   "cell_type": "code",
   "execution_count": 4,
   "metadata": {},
   "outputs": [],
   "source": [
    "qnsData = qnsData[:50000]"
   ]
  },
  {
   "cell_type": "code",
   "execution_count": 5,
   "metadata": {
    "collapsed": true
   },
   "outputs": [],
   "source": [
    "# Note response time (in hours) of the first answer given\n",
    "# If no answer posted, return -1\n",
    "def get1stResponseTime(qnid):\n",
    "    # Get answers for qn\n",
    "    answers = ansData[ansData['ParentId'] == qnid]\n",
    "\n",
    "    # If no answers return -1\n",
    "    if len(answers) == 0:\n",
    "        return -1\n",
    "\n",
    "    # Get the datetime of the 1st answered qn\n",
    "    ansDate = min(answers['CreationDate'])\n",
    "    # Get when the qn was asked\n",
    "    qnDate = qnsData[qnsData['Id'] == qnid]['CreationDate'].values[0]\n",
    "    ansDate_dt = datetime.strptime(ansDate , \"%Y-%m-%dT%H:%M:%SZ\")\n",
    "    qnDate_dt = datetime.strptime(qnDate , \"%Y-%m-%dT%H:%M:%SZ\")\n",
    "    delta = ansDate_dt - qnDate_dt\n",
    "    return delta.seconds/3600"
   ]
  },
  {
   "cell_type": "code",
   "execution_count": 6,
   "metadata": {},
   "outputs": [
    {
     "name": "stdout",
     "output_type": "stream",
     "text": [
      "--- 3.6166666666666667 minutes ---\n"
     ]
    }
   ],
   "source": [
    "# runs 10 mins for 1mil rows\n",
    "start_time = datetime.now()\n",
    "qnsData['FirstResponse'] = qnsData['Id'].apply(get1stResponseTime)\n",
    "tdelta = (datetime.now() - start_time).seconds/60\n",
    "print(\"--- %s minutes ---\" % tdelta)"
   ]
  },
  {
   "cell_type": "code",
   "execution_count": 8,
   "metadata": {},
   "outputs": [],
   "source": [
    "# len(qnsData[qnsData['FirstResponse'] == -1])\n",
    "# replace -1 with max value\n",
    "maxResponseTime = qnsData['FirstResponse'].max()\n",
    "qnsData['FirstResponse'] = qnsData['FirstResponse'].replace(-1, 2*maxResponseTime)"
   ]
  },
  {
   "cell_type": "code",
   "execution_count": 9,
   "metadata": {},
   "outputs": [],
   "source": [
    "responseTime_by_user = qnsData.groupby('OwnerUserId')['FirstResponse'].mean()\n",
    "users_response_df =  pd.DataFrame({'userid':responseTime_by_user.index, \n",
    "                                   'mean_response_time':responseTime_by_user.values})"
   ]
  },
  {
   "cell_type": "code",
   "execution_count": null,
   "metadata": {
    "collapsed": false
   },
   "outputs": [],
   "source": [
    "def getUserAcceptRate(userid):\n",
    "    acceptrate = usersData[usersData['User Id']==userid]['Accept Rate']\n",
    "    if len(acceptrate) == 0:\n",
    "        return -1\n",
    "    return acceptrate.values[0]\n",
    "\n",
    "start_time = datetime.now()\n",
    "users_response_df['Accept Rate'] = users_response_df['userid'].apply(getUserAcceptRate)\n",
    "tdelta = (datetime.now() - start_time).seconds/60\n",
    "print(\"--- %s minutes ---\" % tdelta)"
   ]
  },
  {
   "cell_type": "code",
   "execution_count": 35,
   "metadata": {
    "collapsed": false
   },
   "outputs": [
    {
     "data": {
      "image/png": "[encoded data removed]",
      "text/plain": [
       "<matplotlib.figure.Figure at 0x1082a6358>"
      ]
     },
     "metadata": {},
     "output_type": "display_data"
    }
   ],
   "source": [
    "# ACCEPTANCE RATE VS RESPONSE TIME\n",
    "# # # # # # # # # # # # # # # # # # # # # # # # # # # # # # # # # # # # # # # # # # # # #\n",
    "df = users_response_df[users_response_df['mean_response_time'] != -1].dropna()\n",
    "df1 = df[df['Accept Rate'] <= 10]['mean_response_time'].values\n",
    "df2 = df[df['Accept Rate'].between(11, 20, inclusive=True)]['mean_response_time'].values\n",
    "df3 = df[df['Accept Rate'].between(21, 30, inclusive=True)]['mean_response_time'].values\n",
    "df4 = df[df['Accept Rate'].between(31, 40, inclusive=True)]['mean_response_time'].values\n",
    "df5 = df[df['Accept Rate'].between(41, 50, inclusive=True)]['mean_response_time'].values\n",
    "df6 = df[df['Accept Rate'].between(51, 60, inclusive=True)]['mean_response_time'].values\n",
    "df7 = df[df['Accept Rate'].between(61, 70, inclusive=True)]['mean_response_time'].values\n",
    "df8 = df[df['Accept Rate'].between(71, 80, inclusive=True)]['mean_response_time'].values\n",
    "df9 = df[df['Accept Rate'].between(81, 90, inclusive=True)]['mean_response_time'].values\n",
    "df10 = df[df['Accept Rate'].between(91, 100, inclusive=True)]['mean_response_time'].values\n",
    "\n",
    "fig = plt.figure()\n",
    "plt.boxplot([df1,df2,df3,df4,df5,df6,df7,df8,df9,df10],0,'')\n",
    "labels = ['0-10%', '10-20%', '20-30%', '30-40%', '40-50%', '50-60%', '60-70%', '70-80%', '80-90%', '90-100%']\n",
    "plt.xticks(list(range(1,10)), labels,rotation='vertical')\n",
    "plt.xlabel('Acceptance Rate of Asker')\n",
    "plt.ylabel('Response Time To Askers qn(in hours)')\n",
    "plt.ylim([-3,35])\n",
    "plt.subplots_adjust(bottom=0.2)\n",
    "plt.show()\n",
    "fig.savefig('assignment2/ACCEPTANCE RATE VS RESPONSE TIME.png')"
   ]
  },
  {
   "cell_type": "code",
   "execution_count": 13,
   "metadata": {
    "collapsed": true
   },
   "outputs": [
    {
     "name": "stdout",
     "output_type": "stream",
     "text": [
      "--- 9.45 minutes ---\n"
     ]
    }
   ],
   "source": [
    "weekdays = ['Mon','Tue','Wed','Thu','Fri','Sat','Sun']\n",
    "def getTimeOfDay(ansid):\n",
    "    creationDate = ansData[ansData['Id']==ansid]['CreationDate'].values[0]\n",
    "    creationDate_dt = datetime.strptime(creationDate, \"%Y-%m-%dT%H:%M:%SZ\")\n",
    "    hourOfDay = creationDate_dt.hour\n",
    "    periodOfDay = int(hourOfDay/4)\n",
    "    # Monday is 0 and Sunday is 6\n",
    "    dayOfWeek = creationDate_dt.weekday()\n",
    "    return hourOfDay,periodOfDay,dayOfWeek\n",
    "\n",
    "start_time = datetime.now()\n",
    "ansData['HourOfDay'],ansData['PeriodOfDay'],ansData['DayOfWeek'] = \\\n",
    "    zip(*ansData['Id'].map(getTimeOfDay))\n",
    "tdelta = (datetime.now() - start_time).seconds/60\n",
    "print(\"--- %s minutes ---\" % tdelta)"
   ]
  },
  {
   "cell_type": "code",
   "execution_count": 14,
   "metadata": {
    "collapsed": true
   },
   "outputs": [
    {
     "name": "stdout",
     "output_type": "stream",
     "text": [
      "CPU times: user 1e+03 ns, sys: 0 ns, total: 1e+03 ns\nWall time: 7.15 µs\n"
     ]
    },
    {
     "data": {
      "image/png": "[encoded data removed]",
      "text/plain": [
       "<matplotlib.figure.Figure at 0x107306320>"
      ]
     },
     "metadata": {},
     "output_type": "display_data"
    }
   ],
   "source": [
    "# ANSWER POSTED TIME - VS - ANSWER SCORE\n",
    "%time\n",
    "sumScore = ansData['Score'].sum()\n",
    "boxplotData = []\n",
    "for i in range(6):\n",
    "    df = ansData[ansData['PeriodOfDay'] == i]['Score']\n",
    "    df = df / sumScore\n",
    "    boxplotData.append(df.values)\n",
    "\n",
    "plt.boxplot(boxplotData,0,'')\n",
    "plt.show()"
   ]
  },
  {
   "cell_type": "code",
   "execution_count": 15,
   "metadata": {},
   "outputs": [],
   "source": [
    "def getAnswersCount(qnid):\n",
    "    return len(ansData[ansData['ParentId'] == qnid])\n",
    "\n",
    "qnsData['AnsCount'] = qnsData['Id'].apply(getAnswersCount)"
   ]
  },
  {
   "cell_type": "code",
   "execution_count": 17,
   "metadata": {},
   "outputs": [
    {
     "name": "stdout",
     "output_type": "stream",
     "text": [
      "--- 1.3166666666666667 minutes ---\n"
     ]
    }
   ],
   "source": [
    "def getQnTimeOfDay(qnid):\n",
    "    creationDate = qnsData[qnsData['Id']==qnid]['CreationDate'].values[0]\n",
    "    creationDate_dt = datetime.strptime(creationDate, \"%Y-%m-%dT%H:%M:%SZ\")\n",
    "    hourOfDay = creationDate_dt.hour\n",
    "    # Monday is 0 and Sunday is 6\n",
    "    dayOfWeek = creationDate_dt.weekday()\n",
    "    return hourOfDay,dayOfWeek\n",
    "\n",
    "start_time = datetime.now()\n",
    "qnsData['HourOfDay'],qnsData['DayOfWeek'] = \\\n",
    "    zip(*qnsData['Id'].map(getQnTimeOfDay))\n",
    "tdelta = (datetime.now() - start_time).seconds/60\n",
    "print(\"--- %s minutes ---\" % tdelta)"
   ]
  },
  {
   "cell_type": "code",
   "execution_count": 18,
   "metadata": {
    "collapsed": true
   },
   "outputs": [
    {
     "data": {
      "image/png": "[encoded data removed]",
      "text/plain": [
       "<matplotlib.figure.Figure at 0x1078ab048>"
      ]
     },
     "metadata": {},
     "output_type": "display_data"
    }
   ],
   "source": [
    "# QN POSTED TIME - VS - ANSWER COUNT\n",
    "boxplotData = []\n",
    "X = []\n",
    "Y = []\n",
    "sumCount = qnsData['AnsCount'].sum()\n",
    "for i in range(24):\n",
    "    df = qnsData[(qnsData['HourOfDay'] == i) & (qnsData['AnsCount'] < 100)]['AnsCount']\n",
    "    df = df / sumCount\n",
    "    boxplotData.append(df.values)\n",
    "    val = qnsData[qnsData['HourOfDay'] == i]['AnsCount'].mean()\n",
    "    # val = qnsData[qnsData['DayOfWeek'] == i]['AnsCount'].mean()\n",
    "    X.append(i)\n",
    "    Y.append(val)\n",
    "\n",
    "# plt.boxplot(boxplotData,0,'')\n",
    "# plt.scatter(qnsData['DayOfWeek'],qnsData['AnsCount'])\n",
    "# df = qnsData[qnsData['AnsCount'] < 100]\n",
    "# plt.scatter(df['DayOfWeek'],df['AnsCount'])\n",
    "plt.bar(X,Y)\n",
    "plt.show()"
   ]
  },
  {
   "cell_type": "code",
   "execution_count": 215,
   "metadata": {},
   "outputs": [],
   "source": [
    ""
   ]
  },
  {
   "cell_type": "code",
   "execution_count": 20,
   "metadata": {},
   "outputs": [
    {
     "data": {
      "image/png": "[encoded data removed]",
      "text/plain": [
       "<matplotlib.figure.Figure at 0x1072ac860>"
      ]
     },
     "metadata": {},
     "output_type": "display_data"
    }
   ],
   "source": [
    "# QN POSTED TIME - VS - FIRST ANSWER RESPONSE TIME\n",
    "df1 = qnsData[qnsData['HourOfDay'].between(0, 3, inclusive=True)]['FirstResponse'].mean()\n",
    "df2 = qnsData[qnsData['HourOfDay'].between(3, 6, inclusive=True)]['FirstResponse'].mean()\n",
    "df3 = qnsData[qnsData['HourOfDay'].between(6, 9, inclusive=True)]['FirstResponse'].mean()\n",
    "df4 = qnsData[qnsData['HourOfDay'].between(9, 12, inclusive=True)]['FirstResponse'].mean()\n",
    "df5 = qnsData[qnsData['HourOfDay'].between(12, 15, inclusive=True)]['FirstResponse'].mean()\n",
    "df6 = qnsData[qnsData['HourOfDay'].between(15, 18, inclusive=True)]['FirstResponse'].mean()\n",
    "df7 = qnsData[qnsData['HourOfDay'].between(18, 21, inclusive=True)]['FirstResponse'].mean()\n",
    "df8 = qnsData[qnsData['HourOfDay'].between(21, 24, inclusive=True)]['FirstResponse'].mean()\n",
    "\n",
    "fig = plt.figure()\n",
    "# plt.boxplot([df1,df2,df3,df4,df5,df6,df7,df8],0,'')\n",
    "X = list(range(1,9))\n",
    "plt.scatter(X,[df1,df2,df3,df4,df5,df6,df7,df8])\n",
    "plt.plot(X,[df1,df2,df3,df4,df5,df6,df7,df8])\n",
    "\n",
    "labels = ['0-3', '3-6', '6-9', '9-12', '12-15', '15-18', '18-21', '21-24']\n",
    "plt.xticks(X, labels)\n",
    "plt.xlabel('Hour of Qn creation time')\n",
    "plt.ylabel('Avg Response Time(in hours)')\n",
    "plt.subplots_adjust(bottom=0.2)\n",
    "plt.show()\n",
    "fig.savefig('assignment2/QnHourVsFirstResponse.png')"
   ]
  },
  {
   "cell_type": "code",
   "execution_count": 21,
   "metadata": {
    "collapsed": true
   },
   "outputs": [],
   "source": [
    "# TAG POPULARITY - VS - ANSWER COUNT\n",
    "def getTagPopularity(qnid):\n",
    "    df = tagsFeaturesData[tagsFeaturesData['qnid'] == qnid]\n",
    "    return df['avg_popularity'].values[0]\n",
    "\n",
    "qnsData['AvgPopularity'] = qnsData['Id'].map(getTagPopularity)"
   ]
  },
  {
   "cell_type": "code",
   "execution_count": 23,
   "metadata": {},
   "outputs": [
    {
     "data": {
      "image/png": "[encoded data removed]",
      "text/plain": [
       "<matplotlib.figure.Figure at 0x110d0f3c8>"
      ]
     },
     "metadata": {},
     "output_type": "display_data"
    }
   ],
   "source": [
    "plt.hist(qnsData['AvgPopularity'])\n",
    "plt.show()"
   ]
  },
  {
   "cell_type": "code",
   "execution_count": 44,
   "metadata": {},
   "outputs": [
    {
     "data": {
      "image/png": "[encoded data removed]",
      "text/plain": [
       "<matplotlib.figure.Figure at 0x1078def98>"
      ]
     },
     "metadata": {},
     "output_type": "display_data"
    }
   ],
   "source": [
    "df1 = qnsData[qnsData['AvgPopularity'].between(0.00, 0.01, inclusive=True)]['FirstResponse']\n",
    "df2 = qnsData[qnsData['AvgPopularity'].between(0.01, 0.02, inclusive=True)]['FirstResponse']\n",
    "df3 = qnsData[qnsData['AvgPopularity'].between(0.02, 0.03, inclusive=True)]['FirstResponse']\n",
    "df4 = qnsData[qnsData['AvgPopularity'].between(0.03, 0.04, inclusive=True)]['FirstResponse']\n",
    "df5 = qnsData[qnsData['AvgPopularity'].between(0.04, 0.05, inclusive=True)]['FirstResponse']\n",
    "df6 = qnsData[qnsData['AvgPopularity'].between(0.05, 0.06, inclusive=True)]['FirstResponse']\n",
    "\n",
    "\n",
    "fig = plt.figure()\n",
    "plt.boxplot([df1,df2,df3,df4,df5,df6],0,'')\n",
    "labels = ['0-0.01', '0.01-0.02', '0.02-0.03', '0.03-0.04', '0.04-0.05', '0.05-0.06']\n",
    "plt.xticks(list(range(1,7)), labels,rotation='vertical')\n",
    "plt.xlabel('Average Qn Popularity (by Tags)')\n",
    "plt.ylabel('Response Time(in hours)')\n",
    "plt.subplots_adjust(bottom=0.3)\n",
    "plt.margins(0.05)\n",
    "plt.show()\n",
    "fig.savefig('assignment2/TagPopVsFirstResponse.png')"
   ]
  },
  {
   "cell_type": "code",
   "execution_count": null,
   "metadata": {},
   "outputs": [],
   "source": [
    "df1 = qnsData[qnsData['AvgPopularity'].between(0.00, 0.01, inclusive=True)]['AnsCount'].mean()\n",
    "df2 = qnsData[qnsData['AvgPopularity'].between(0.01, 0.02, inclusive=True)]['AnsCount'].mean()\n",
    "df3 = qnsData[qnsData['AvgPopularity'].between(0.02, 0.03, inclusive=True)]['AnsCount'].mean()\n",
    "df4 = qnsData[qnsData['AvgPopularity'].between(0.03, 0.04, inclusive=True)]['AnsCount'].mean()\n",
    "df5 = qnsData[qnsData['AvgPopularity'].between(0.04, 0.05, inclusive=True)]['AnsCount'].mean()\n",
    "df6 = qnsData[qnsData['AvgPopularity'].between(0.05, 0.06, inclusive=True)]['AnsCount'].mean()\n",
    "df7 = qnsData[qnsData['AvgPopularity'].between(0.06, 0.07, inclusive=True)]['AnsCount'].mean()\n",
    "df8 = qnsData[qnsData['AvgPopularity'].between(0.07, 0.08, inclusive=True)]['AnsCount'].mean()\n",
    "\n",
    "fig = plt.figure()\n",
    "X = list(range(1,9))\n",
    "Y = [df1,df2,df3,df4,df5,df6,df7,df8]\n",
    "plt.scatter(X,Y)\n",
    "plt.plot(X,Y)\n",
    "labels = ['0-0.01', '0.01-0.02', '0.02-0.03', '0.03-0.04', '0.04-0.05',\n",
    "          '0.05-0.06','0.06-0.07','0.07-0.08']\n",
    "plt.xticks(X, labels,rotation='vertical')\n",
    "plt.xlabel('Average Qn Popularity (by Tags)')\n",
    "plt.ylabel('Avg # of Answers received')\n",
    "plt.subplots_adjust(bottom=0.3)\n",
    "plt.margins(0.05)\n",
    "plt.show()\n",
    "fig.savefig('assignment2/TagPopVsAnsCount.png')"
   ]
  },
  {
   "cell_type": "code",
   "execution_count": 27,
   "metadata": {
    "collapsed": true
   },
   "outputs": [],
   "source": [
    "# Takes 5 mins\n",
    "def getReputation(userid):\n",
    "    user = usersData[usersData['User Id']==userid]\n",
    "    if len(user) == 0:\n",
    "        return 0\n",
    "    return user['Reputation'].values[0]\n",
    "\n",
    "users_response_df['Reputation'] = users_response_df['userid'].apply(getReputation)"
   ]
  },
  {
   "cell_type": "code",
   "execution_count": 36,
   "metadata": {},
   "outputs": [
    {
     "data": {
      "image/png": "[encoded data removed]",
      "text/plain": [
       "<matplotlib.figure.Figure at 0x12a21d9e8>"
      ]
     },
     "metadata": {},
     "output_type": "display_data"
    }
   ],
   "source": [
    "df = users_response_df[users_response_df['Reputation'] != 0]\n",
    "\n",
    "df1 = df[df['Reputation'].between(0, 200, inclusive=True)]['mean_response_time']\n",
    "df2 = df[df['Reputation'].between(200, 400, inclusive=True)]['mean_response_time']\n",
    "df3 = df[df['Reputation'].between(400, 600, inclusive=True)]['mean_response_time']\n",
    "df4 = df[df['Reputation'].between(600, 800, inclusive=True)]['mean_response_time']\n",
    "df5 = df[df['Reputation'].between(800, 1000, inclusive=True)]['mean_response_time']\n",
    "df6 = df[df['Reputation'].between(1000, 1200, inclusive=True)]['mean_response_time']\n",
    "df7 = df[df['Reputation'].between(1200, 1400, inclusive=True)]['mean_response_time']\n",
    "df8 = df[df['Reputation'].between(1400, 1600, inclusive=True)]['mean_response_time']\n",
    "df9 = df[df['Reputation'].between(1600, 1800, inclusive=True)]['mean_response_time']\n",
    "df10 = df[df['Reputation'].between(1800, 2000, inclusive=True)]['mean_response_time']\n",
    "\n",
    "\n",
    "plt.show()\n",
    "\n",
    "fig = plt.figure()\n",
    "X = list(range(1,10))\n",
    "Y = [df1,df2,df3,df4,df5,df6,df7,df8,df10]\n",
    "plt.boxplot(Y,0,'')\n",
    "labels = ['0-200', '200-400', '400-600', '600-800', '800-1000',\n",
    "          '1000-1200','1200-1400','1400-1600','1600-1800']\n",
    "plt.xticks(X, labels,rotation='vertical')\n",
    "plt.xlabel('Reputation of beginners')\n",
    "plt.ylabel('Response Time(in hours)')\n",
    "plt.subplots_adjust(bottom=0.3)\n",
    "plt.margins(0.05)\n",
    "plt.show()\n",
    "fig.savefig('assignment2/ReputationVsResponseTime.png')"
   ]
  },
  {
   "cell_type": "code",
   "execution_count": 37,
   "metadata": {},
   "outputs": [],
   "source": [
    "qnFeatureFilepath = basepath + '/input/X_ling_feat.txt'\n",
    "qnFeatureData = pd.read_table(qnFeatureFilepath,sep=' ')\n",
    "qnFeatureData = qnFeatureData[:50000]"
   ]
  },
  {
   "cell_type": "code",
   "execution_count": 38,
   "metadata": {},
   "outputs": [],
   "source": [
    "qnsData['error_ratio_title'] = qnFeatureData['error_ratio_title'].values\n",
    "qnsData['error_ratio_body'] = qnFeatureData['error_ratio_body'].values\n",
    "qnsData['isimage'] = qnFeatureData['isimage'].values\n",
    "qnsData['iscode'] = qnFeatureData['iscode'].values\n",
    "qnsData['islink'] = qnFeatureData['islink'].values"
   ]
  },
  {
   "cell_type": "code",
   "execution_count": 39,
   "metadata": {
    "collapsed": false
   },
   "outputs": [
    {
     "data": {
      "image/png": "[encoded data removed]",
      "text/plain": [
       "<matplotlib.figure.Figure at 0x109aed160>"
      ]
     },
     "metadata": {},
     "output_type": "display_data"
    }
   ],
   "source": [
    "df = qnsData\n",
    "df1 = df[df['error_ratio_body'].between(0, 0.1, inclusive=True)]['FirstResponse'].mean()\n",
    "df2 = df[df['error_ratio_body'].between(0.1, 0.2, inclusive=True)]['FirstResponse'].mean()\n",
    "df3 = df[df['error_ratio_body'].between(0.2, 0.3, inclusive=True)]['FirstResponse'].mean()\n",
    "df4 = df[df['error_ratio_body'].between(0.3, 0.4, inclusive=True)]['FirstResponse'].mean()\n",
    "df5 = df[df['error_ratio_body'].between(0.4, 0.5, inclusive=True)]['FirstResponse'].mean()\n",
    "df6 = df[df['error_ratio_body'].between(0.5, 0.6, inclusive=True)]['FirstResponse'].mean()\n",
    "df7 = df[df['error_ratio_body'].between(0.6, 0.7, inclusive=True)]['FirstResponse'].mean()\n",
    "df8 = df[df['error_ratio_body'].between(0.7, 0.8, inclusive=True)]['FirstResponse'].mean()\n",
    "df9 = df[df['error_ratio_body'].between(0.8, 0.9, inclusive=True)]['FirstResponse'].mean()\n",
    "\n",
    "fig = plt.figure()\n",
    "X = list(range(1,10))\n",
    "Y = [df1,df2,df3,df4,df5,df6,df7,df8,df9]\n",
    "plt.scatter(X,Y)\n",
    "plt.plot(X,Y)\n",
    "labels = ['0 - 0.1', '0.1 - 0.2', '0.2 - 0.3','0.3 - 0.4','0.4 - 0.5','0.5 - 0.6',\n",
    "          '0.6 - 0.7','0.7 - 0.8','0.8 - 0.9']\n",
    "plt.xticks(X, labels,rotation='vertical')\n",
    "plt.xlabel('Spelling mistakes / Qn Word Count')\n",
    "plt.ylabel('Avg Response time(in hours)')\n",
    "plt.subplots_adjust(bottom=0.3)\n",
    "plt.margins(0.05)\n",
    "plt.show()\n",
    "fig.savefig('assignment2/SpellingmistakeVsResponseTime.png')"
   ]
  },
  {
   "cell_type": "code",
   "execution_count": 42,
   "metadata": {},
   "outputs": [
    {
     "name": "stdout",
     "output_type": "stream",
     "text": [
      "8.79209769712\n11.0632061728\n8.38074993216\n11.1482001832\n9.91066676858\n8.54794877699\n"
     ]
    },
    {
     "data": {
      "image/png": "[encoded data removed]",
      "text/plain": [
       "<matplotlib.figure.Figure at 0x1082b3b00>"
      ]
     },
     "metadata": {},
     "output_type": "display_data"
    }
   ],
   "source": [
    "meanRT_noimage = qnsData[qnsData['isimage'] == 0]['FirstResponse']\n",
    "meanRT_image = qnsData[qnsData['isimage'] == 1]['FirstResponse']\n",
    "\n",
    "meanRT_nolink = qnsData[qnsData['islink'] == 0]['FirstResponse']\n",
    "meanRT_link = qnsData[qnsData['islink'] == 1]['FirstResponse']\n",
    "\n",
    "meanRT_nocode = qnsData[qnsData['iscode'] == 0]['FirstResponse']\n",
    "meanRT_code = qnsData[qnsData['iscode'] == 1]['FirstResponse']\n",
    "\n",
    "print(meanRT_noimage.mean())\n",
    "print(meanRT_image.mean())\n",
    "print(meanRT_nolink.mean())\n",
    "print(meanRT_link.mean())\n",
    "print(meanRT_nocode.mean())\n",
    "print(meanRT_code.mean())\n",
    "\n",
    "fig = plt.figure()\n",
    "X = [1,2,3,4,5,6]\n",
    "Y = [meanRT_noimage,meanRT_image,meanRT_nolink,meanRT_link,meanRT_nocode,meanRT_code]\n",
    "# Y = [meanRT_noimage.mean(),meanRT_image.mean(),meanRT_nolink.mean(),meanRT_link.mean()\n",
    "#         ,meanRT_nocode.mean(),meanRT_code.mean()]\n",
    "\n",
    "box = plt.boxplot(Y,0,'',patch_artist=True)\n",
    "\n",
    "colors = ['lightblue','blue', 'lightgreen', 'green', 'lightyellow','yellow']\n",
    "for patch, color in zip(box['boxes'], colors):\n",
    "    patch.set_facecolor(color)\n",
    "labels = ['Without image', 'With image', 'Without links','With links','Without Code','With code']\n",
    "plt.xticks(X, labels,rotation='vertical')\n",
    "plt.ylabel('Response time to Qn(in hours)')\n",
    "plt.subplots_adjust(bottom=0.3)\n",
    "plt.margins(0.05)\n",
    "\n",
    "plt.show()\n",
    "fig.savefig('assignment2/QnFeaturesVsAvgResponseTime.png')"
   ]
  },
  {
   "cell_type": "code",
   "execution_count": 291,
   "metadata": {},
   "outputs": [
    {
     "data": {
      "text/html": [
       "<div>\n",
       "<table border=\"1\" class=\"dataframe\">\n",
       "  <thead>\n",
       "    <tr style=\"text-align: right;\">\n",
       "      <th></th>\n",
       "      <th>isimage</th>\n",
       "      <th>islink</th>\n",
       "      <th>iscode</th>\n",
       "      <th>code_length</th>\n",
       "      <th>body_length</th>\n",
       "      <th>error_ratio_body</th>\n",
       "      <th>title_length</th>\n",
       "      <th>error_ratio_title</th>\n",
       "    </tr>\n",
       "  </thead>\n",
       "  <tbody>\n",
       "    <tr>\n",
       "      <th>0</th>\n",
       "      <td>0.0</td>\n",
       "      <td>0.0</td>\n",
       "      <td>1.0</td>\n",
       "      <td>12.0</td>\n",
       "      <td>132.0</td>\n",
       "      <td>0.075758</td>\n",
       "      <td>7.0</td>\n",
       "      <td>0.142857</td>\n",
       "    </tr>\n",
       "    <tr>\n",
       "      <th>1</th>\n",
       "      <td>0.0</td>\n",
       "      <td>0.0</td>\n",
       "      <td>1.0</td>\n",
       "      <td>34.0</td>\n",
       "      <td>17.0</td>\n",
       "      <td>0.058824</td>\n",
       "      <td>6.0</td>\n",
       "      <td>0.166667</td>\n",
       "    </tr>\n",
       "    <tr>\n",
       "      <th>2</th>\n",
       "      <td>0.0</td>\n",
       "      <td>1.0</td>\n",
       "      <td>1.0</td>\n",
       "      <td>12.0</td>\n",
       "      <td>112.0</td>\n",
       "      <td>0.160714</td>\n",
       "      <td>9.0</td>\n",
       "      <td>0.222222</td>\n",
       "    </tr>\n",
       "  </tbody>\n",
       "</table>\n",
       "</div>"
      ],
      "text/plain": [
       "<div>\n",
       "<table border=\"1\" class=\"dataframe\">\n",
       "  <thead>\n",
       "    <tr style=\"text-align: right;\">\n",
       "      <th></th>\n",
       "      <th>isimage</th>\n",
       "      <th>islink</th>\n",
       "      <th>iscode</th>\n",
       "      <th>code_length</th>\n",
       "      <th>body_length</th>\n",
       "      <th>error_ratio_body</th>\n",
       "      <th>title_length</th>\n",
       "      <th>error_ratio_title</th>\n",
       "    </tr>\n",
       "  </thead>\n",
       "  <tbody>\n",
       "    <tr>\n",
       "      <th>0</th>\n",
       "      <td>0.0</td>\n",
       "      <td>0.0</td>\n",
       "      <td>1.0</td>\n",
       "      <td>12.0</td>\n",
       "      <td>132.0</td>\n",
       "      <td>0.075758</td>\n",
       "      <td>7.0</td>\n",
       "      <td>0.142857</td>\n",
       "    </tr>\n",
       "    <tr>\n",
       "      <th>1</th>\n",
       "      <td>0.0</td>\n",
       "      <td>0.0</td>\n",
       "      <td>1.0</td>\n",
       "      <td>34.0</td>\n",
       "      <td>17.0</td>\n",
       "      <td>0.058824</td>\n",
       "      <td>6.0</td>\n",
       "      <td>0.166667</td>\n",
       "    </tr>\n",
       "    <tr>\n",
       "      <th>2</th>\n",
       "      <td>0.0</td>\n",
       "      <td>1.0</td>\n",
       "      <td>1.0</td>\n",
       "      <td>12.0</td>\n",
       "      <td>112.0</td>\n",
       "      <td>0.160714</td>\n",
       "      <td>9.0</td>\n",
       "      <td>0.222222</td>\n",
       "    </tr>\n",
       "  </tbody>\n",
       "</table>\n",
       "</div>"
      ]
     },
     "execution_count": 291,
     "metadata": {},
     "output_type": "execute_result"
    }
   ],
   "source": [
    "qnFeatureData[:3]"
   ]
  },
  {
   "cell_type": "code",
   "execution_count": 99,
   "metadata": {
    "collapsed": true
   },
   "outputs": [
    {
     "data": {
      "text/html": [
       "<div>\n",
       "<table border=\"1\" class=\"dataframe\">\n",
       "  <thead>\n",
       "    <tr style=\"text-align: right;\">\n",
       "      <th></th>\n",
       "      <th>mean_response_time</th>\n",
       "      <th>userid</th>\n",
       "      <th>Accept Rate</th>\n",
       "      <th>Reputation</th>\n",
       "    </tr>\n",
       "  </thead>\n",
       "  <tbody>\n",
       "    <tr>\n",
       "      <th>0</th>\n",
       "      <td>0.065833</td>\n",
       "      <td>5.0</td>\n",
       "      <td>88.0</td>\n",
       "      <td>35735</td>\n",
       "    </tr>\n",
       "    <tr>\n",
       "      <th>1</th>\n",
       "      <td>0.555000</td>\n",
       "      <td>29.0</td>\n",
       "      <td>84.0</td>\n",
       "      <td>62609</td>\n",
       "    </tr>\n",
       "    <tr>\n",
       "      <th>2</th>\n",
       "      <td>0.203611</td>\n",
       "      <td>49.0</td>\n",
       "      <td>86.0</td>\n",
       "      <td>15318</td>\n",
       "    </tr>\n",
       "  </tbody>\n",
       "</table>\n",
       "</div>"
      ],
      "text/plain": [
       "<div>\n",
       "<table border=\"1\" class=\"dataframe\">\n",
       "  <thead>\n",
       "    <tr style=\"text-align: right;\">\n",
       "      <th></th>\n",
       "      <th>mean_response_time</th>\n",
       "      <th>userid</th>\n",
       "      <th>Accept Rate</th>\n",
       "      <th>Reputation</th>\n",
       "    </tr>\n",
       "  </thead>\n",
       "  <tbody>\n",
       "    <tr>\n",
       "      <th>0</th>\n",
       "      <td>0.065833</td>\n",
       "      <td>5.0</td>\n",
       "      <td>88.0</td>\n",
       "      <td>35735</td>\n",
       "    </tr>\n",
       "    <tr>\n",
       "      <th>1</th>\n",
       "      <td>0.555000</td>\n",
       "      <td>29.0</td>\n",
       "      <td>84.0</td>\n",
       "      <td>62609</td>\n",
       "    </tr>\n",
       "    <tr>\n",
       "      <th>2</th>\n",
       "      <td>0.203611</td>\n",
       "      <td>49.0</td>\n",
       "      <td>86.0</td>\n",
       "      <td>15318</td>\n",
       "    </tr>\n",
       "  </tbody>\n",
       "</table>\n",
       "</div>"
      ]
     },
     "execution_count": 99,
     "metadata": {},
     "output_type": "execute_result"
    }
   ],
   "source": [
    "users_response_df[:3]"
   ]
  },
  {
   "cell_type": "code",
   "execution_count": 30,
   "metadata": {
    "collapsed": false
   },
   "outputs": [
    {
     "data": {
      "text/html": [
       "<div>\n",
       "<table border=\"1\" class=\"dataframe\">\n",
       "  <thead>\n",
       "    <tr style=\"text-align: right;\">\n",
       "      <th></th>\n",
       "      <th>Unnamed: 0</th>\n",
       "      <th>Bronze Badges</th>\n",
       "      <th>Silver Badges</th>\n",
       "      <th>Gold Badges</th>\n",
       "      <th>Account Id</th>\n",
       "      <th>Is Employee</th>\n",
       "      <th>Reputation</th>\n",
       "      <th>User Id</th>\n",
       "      <th>Accept Rate</th>\n",
       "    </tr>\n",
       "  </thead>\n",
       "  <tbody>\n",
       "    <tr>\n",
       "      <th>0</th>\n",
       "      <td>0</td>\n",
       "      <td>151</td>\n",
       "      <td>85</td>\n",
       "      <td>16</td>\n",
       "      <td>207149</td>\n",
       "      <td>False</td>\n",
       "      <td>23736</td>\n",
       "      <td>456851</td>\n",
       "      <td>99.0</td>\n",
       "    </tr>\n",
       "    <tr>\n",
       "      <th>1</th>\n",
       "      <td>1</td>\n",
       "      <td>216</td>\n",
       "      <td>130</td>\n",
       "      <td>47</td>\n",
       "      <td>103699</td>\n",
       "      <td>False</td>\n",
       "      <td>10796</td>\n",
       "      <td>277603</td>\n",
       "      <td>76.0</td>\n",
       "    </tr>\n",
       "    <tr>\n",
       "      <th>2</th>\n",
       "      <td>2</td>\n",
       "      <td>45</td>\n",
       "      <td>22</td>\n",
       "      <td>4</td>\n",
       "      <td>150205</td>\n",
       "      <td>False</td>\n",
       "      <td>4228</td>\n",
       "      <td>363224</td>\n",
       "      <td>80.0</td>\n",
       "    </tr>\n",
       "  </tbody>\n",
       "</table>\n",
       "</div>"
      ],
      "text/plain": [
       "<div>\n",
       "<table border=\"1\" class=\"dataframe\">\n",
       "  <thead>\n",
       "    <tr style=\"text-align: right;\">\n",
       "      <th></th>\n",
       "      <th>Unnamed: 0</th>\n",
       "      <th>Bronze Badges</th>\n",
       "      <th>Silver Badges</th>\n",
       "      <th>Gold Badges</th>\n",
       "      <th>Account Id</th>\n",
       "      <th>Is Employee</th>\n",
       "      <th>Reputation</th>\n",
       "      <th>User Id</th>\n",
       "      <th>Accept Rate</th>\n",
       "    </tr>\n",
       "  </thead>\n",
       "  <tbody>\n",
       "    <tr>\n",
       "      <th>0</th>\n",
       "      <td>0</td>\n",
       "      <td>151</td>\n",
       "      <td>85</td>\n",
       "      <td>16</td>\n",
       "      <td>207149</td>\n",
       "      <td>False</td>\n",
       "      <td>23736</td>\n",
       "      <td>456851</td>\n",
       "      <td>99.0</td>\n",
       "    </tr>\n",
       "    <tr>\n",
       "      <th>1</th>\n",
       "      <td>1</td>\n",
       "      <td>216</td>\n",
       "      <td>130</td>\n",
       "      <td>47</td>\n",
       "      <td>103699</td>\n",
       "      <td>False</td>\n",
       "      <td>10796</td>\n",
       "      <td>277603</td>\n",
       "      <td>76.0</td>\n",
       "    </tr>\n",
       "    <tr>\n",
       "      <th>2</th>\n",
       "      <td>2</td>\n",
       "      <td>45</td>\n",
       "      <td>22</td>\n",
       "      <td>4</td>\n",
       "      <td>150205</td>\n",
       "      <td>False</td>\n",
       "      <td>4228</td>\n",
       "      <td>363224</td>\n",
       "      <td>80.0</td>\n",
       "    </tr>\n",
       "  </tbody>\n",
       "</table>\n",
       "</div>"
      ]
     },
     "execution_count": 30,
     "metadata": {},
     "output_type": "execute_result"
    }
   ],
   "source": [
    "usersData[:3]"
   ]
  },
  {
   "cell_type": "code",
   "execution_count": 61,
   "metadata": {
    "collapsed": true
   },
   "outputs": [
    {
     "data": {
      "text/html": [
       "<div>\n",
       "<table border=\"1\" class=\"dataframe\">\n",
       "  <thead>\n",
       "    <tr style=\"text-align: right;\">\n",
       "      <th></th>\n",
       "      <th>Unnamed: 0</th>\n",
       "      <th>qnid</th>\n",
       "      <th>tags</th>\n",
       "      <th>encoded_tags</th>\n",
       "      <th>avg_popularity</th>\n",
       "      <th>max_popularity</th>\n",
       "    </tr>\n",
       "  </thead>\n",
       "  <tbody>\n",
       "    <tr>\n",
       "      <th>0</th>\n",
       "      <td>0</td>\n",
       "      <td>2120</td>\n",
       "      <td>['sql', 'sql-server']</td>\n",
       "      <td>[0, 0, 0, 0, 0, 0, 0, 0, 0, 0, 0, 0, 1, 0, 0, ...</td>\n",
       "      <td>0.01541</td>\n",
       "      <td>0.020633</td>\n",
       "    </tr>\n",
       "    <tr>\n",
       "      <th>1</th>\n",
       "      <td>1</td>\n",
       "      <td>2540</td>\n",
       "      <td>['c', 'architecture', 'data-structures']</td>\n",
       "      <td>[0, 0, 0, 0, 0, 0, 0, 0, 0, 0, 0, 0, 0, 0, 0, ...</td>\n",
       "      <td>0.00444</td>\n",
       "      <td>0.013319</td>\n",
       "    </tr>\n",
       "    <tr>\n",
       "      <th>2</th>\n",
       "      <td>2</td>\n",
       "      <td>2630</td>\n",
       "      <td>['powershell', 'cmdlets']</td>\n",
       "      <td>[0, 0, 0, 0, 0, 0, 0, 0, 0, 0, 0, 0, 0, 0, 0, ...</td>\n",
       "      <td>0.00000</td>\n",
       "      <td>0.000000</td>\n",
       "    </tr>\n",
       "  </tbody>\n",
       "</table>\n",
       "</div>"
      ],
      "text/plain": [
       "<div>\n",
       "<table border=\"1\" class=\"dataframe\">\n",
       "  <thead>\n",
       "    <tr style=\"text-align: right;\">\n",
       "      <th></th>\n",
       "      <th>Unnamed: 0</th>\n",
       "      <th>qnid</th>\n",
       "      <th>tags</th>\n",
       "      <th>encoded_tags</th>\n",
       "      <th>avg_popularity</th>\n",
       "      <th>max_popularity</th>\n",
       "    </tr>\n",
       "  </thead>\n",
       "  <tbody>\n",
       "    <tr>\n",
       "      <th>0</th>\n",
       "      <td>0</td>\n",
       "      <td>2120</td>\n",
       "      <td>['sql', 'sql-server']</td>\n",
       "      <td>[0, 0, 0, 0, 0, 0, 0, 0, 0, 0, 0, 0, 1, 0, 0, ...</td>\n",
       "      <td>0.01541</td>\n",
       "      <td>0.020633</td>\n",
       "    </tr>\n",
       "    <tr>\n",
       "      <th>1</th>\n",
       "      <td>1</td>\n",
       "      <td>2540</td>\n",
       "      <td>['c', 'architecture', 'data-structures']</td>\n",
       "      <td>[0, 0, 0, 0, 0, 0, 0, 0, 0, 0, 0, 0, 0, 0, 0, ...</td>\n",
       "      <td>0.00444</td>\n",
       "      <td>0.013319</td>\n",
       "    </tr>\n",
       "    <tr>\n",
       "      <th>2</th>\n",
       "      <td>2</td>\n",
       "      <td>2630</td>\n",
       "      <td>['powershell', 'cmdlets']</td>\n",
       "      <td>[0, 0, 0, 0, 0, 0, 0, 0, 0, 0, 0, 0, 0, 0, 0, ...</td>\n",
       "      <td>0.00000</td>\n",
       "      <td>0.000000</td>\n",
       "    </tr>\n",
       "  </tbody>\n",
       "</table>\n",
       "</div>"
      ]
     },
     "execution_count": 61,
     "metadata": {},
     "output_type": "execute_result"
    }
   ],
   "source": [
    "tagsFeaturesData[:3]"
   ]
  },
  {
   "cell_type": "code",
   "execution_count": 27,
   "metadata": {
    "collapsed": true
   },
   "outputs": [
    {
     "data": {
      "text/html": [
       "<div>\n",
       "<table border=\"1\" class=\"dataframe\">\n",
       "  <thead>\n",
       "    <tr style=\"text-align: right;\">\n",
       "      <th></th>\n",
       "      <th>CreationDate</th>\n",
       "      <th>DayOfWeek</th>\n",
       "      <th>HourOfDay</th>\n",
       "      <th>Id</th>\n",
       "      <th>OwnerUserId</th>\n",
       "      <th>ParentId</th>\n",
       "      <th>PeriodOfDay</th>\n",
       "      <th>Score</th>\n",
       "    </tr>\n",
       "  </thead>\n",
       "  <tbody>\n",
       "    <tr>\n",
       "      <th>0</th>\n",
       "      <td>2008-08-05T14:26:41Z</td>\n",
       "      <td>1</td>\n",
       "      <td>14</td>\n",
       "      <td>2382</td>\n",
       "      <td>383.0</td>\n",
       "      <td>2120</td>\n",
       "      <td>3</td>\n",
       "      <td>118</td>\n",
       "    </tr>\n",
       "    <tr>\n",
       "      <th>1</th>\n",
       "      <td>2008-08-05T16:43:11Z</td>\n",
       "      <td>1</td>\n",
       "      <td>16</td>\n",
       "      <td>2558</td>\n",
       "      <td>414.0</td>\n",
       "      <td>2540</td>\n",
       "      <td>4</td>\n",
       "      <td>11</td>\n",
       "    </tr>\n",
       "    <tr>\n",
       "      <th>2</th>\n",
       "      <td>2008-08-05T18:50:09Z</td>\n",
       "      <td>1</td>\n",
       "      <td>18</td>\n",
       "      <td>2697</td>\n",
       "      <td>199.0</td>\n",
       "      <td>2540</td>\n",
       "      <td>4</td>\n",
       "      <td>33</td>\n",
       "    </tr>\n",
       "  </tbody>\n",
       "</table>\n",
       "</div>"
      ],
      "text/plain": [
       "<div>\n",
       "<table border=\"1\" class=\"dataframe\">\n",
       "  <thead>\n",
       "    <tr style=\"text-align: right;\">\n",
       "      <th></th>\n",
       "      <th>CreationDate</th>\n",
       "      <th>DayOfWeek</th>\n",
       "      <th>HourOfDay</th>\n",
       "      <th>Id</th>\n",
       "      <th>OwnerUserId</th>\n",
       "      <th>ParentId</th>\n",
       "      <th>PeriodOfDay</th>\n",
       "      <th>Score</th>\n",
       "    </tr>\n",
       "  </thead>\n",
       "  <tbody>\n",
       "    <tr>\n",
       "      <th>0</th>\n",
       "      <td>2008-08-05T14:26:41Z</td>\n",
       "      <td>1</td>\n",
       "      <td>14</td>\n",
       "      <td>2382</td>\n",
       "      <td>383.0</td>\n",
       "      <td>2120</td>\n",
       "      <td>3</td>\n",
       "      <td>118</td>\n",
       "    </tr>\n",
       "    <tr>\n",
       "      <th>1</th>\n",
       "      <td>2008-08-05T16:43:11Z</td>\n",
       "      <td>1</td>\n",
       "      <td>16</td>\n",
       "      <td>2558</td>\n",
       "      <td>414.0</td>\n",
       "      <td>2540</td>\n",
       "      <td>4</td>\n",
       "      <td>11</td>\n",
       "    </tr>\n",
       "    <tr>\n",
       "      <th>2</th>\n",
       "      <td>2008-08-05T18:50:09Z</td>\n",
       "      <td>1</td>\n",
       "      <td>18</td>\n",
       "      <td>2697</td>\n",
       "      <td>199.0</td>\n",
       "      <td>2540</td>\n",
       "      <td>4</td>\n",
       "      <td>33</td>\n",
       "    </tr>\n",
       "  </tbody>\n",
       "</table>\n",
       "</div>"
      ]
     },
     "execution_count": 27,
     "metadata": {},
     "output_type": "execute_result"
    }
   ],
   "source": [
    "ansData[ansData.columns.difference(['Body','Unnamed: 0'])][:3]"
   ]
  },
  {
   "cell_type": "code",
   "execution_count": 290,
   "metadata": {
    "collapsed": false
   },
   "outputs": [
    {
     "data": {
      "text/html": [
       "<div>\n",
       "<table border=\"1\" class=\"dataframe\">\n",
       "  <thead>\n",
       "    <tr style=\"text-align: right;\">\n",
       "      <th></th>\n",
       "      <th>AnsCount</th>\n",
       "      <th>AvgPopularity</th>\n",
       "      <th>FirstResponse</th>\n",
       "      <th>HourOfDay</th>\n",
       "      <th>Id</th>\n",
       "      <th>Score</th>\n",
       "      <th>error_ratio_body</th>\n",
       "      <th>error_ratio_title</th>\n",
       "      <th>iscode</th>\n",
       "      <th>isimage</th>\n",
       "      <th>islink</th>\n",
       "    </tr>\n",
       "  </thead>\n",
       "  <tbody>\n",
       "    <tr>\n",
       "      <th>0</th>\n",
       "      <td>2</td>\n",
       "      <td>0.007652</td>\n",
       "      <td>0.201389</td>\n",
       "      <td>6</td>\n",
       "      <td>8767810</td>\n",
       "      <td>1</td>\n",
       "      <td>0.075758</td>\n",
       "      <td>0.142857</td>\n",
       "      <td>1.0</td>\n",
       "      <td>0.0</td>\n",
       "      <td>0.0</td>\n",
       "    </tr>\n",
       "    <tr>\n",
       "      <th>1</th>\n",
       "      <td>3</td>\n",
       "      <td>0.019125</td>\n",
       "      <td>0.033056</td>\n",
       "      <td>0</td>\n",
       "      <td>9072820</td>\n",
       "      <td>0</td>\n",
       "      <td>0.058824</td>\n",
       "      <td>0.166667</td>\n",
       "      <td>1.0</td>\n",
       "      <td>0.0</td>\n",
       "      <td>0.0</td>\n",
       "    </tr>\n",
       "    <tr>\n",
       "      <th>2</th>\n",
       "      <td>1</td>\n",
       "      <td>0.003814</td>\n",
       "      <td>16.411111</td>\n",
       "      <td>21</td>\n",
       "      <td>34799780</td>\n",
       "      <td>0</td>\n",
       "      <td>0.160714</td>\n",
       "      <td>0.222222</td>\n",
       "      <td>1.0</td>\n",
       "      <td>0.0</td>\n",
       "      <td>1.0</td>\n",
       "    </tr>\n",
       "  </tbody>\n",
       "</table>\n",
       "</div>"
      ],
      "text/plain": [
       "<div>\n",
       "<table border=\"1\" class=\"dataframe\">\n",
       "  <thead>\n",
       "    <tr style=\"text-align: right;\">\n",
       "      <th></th>\n",
       "      <th>AnsCount</th>\n",
       "      <th>AvgPopularity</th>\n",
       "      <th>FirstResponse</th>\n",
       "      <th>HourOfDay</th>\n",
       "      <th>Id</th>\n",
       "      <th>Score</th>\n",
       "      <th>error_ratio_body</th>\n",
       "      <th>error_ratio_title</th>\n",
       "      <th>iscode</th>\n",
       "      <th>isimage</th>\n",
       "      <th>islink</th>\n",
       "    </tr>\n",
       "  </thead>\n",
       "  <tbody>\n",
       "    <tr>\n",
       "      <th>0</th>\n",
       "      <td>2</td>\n",
       "      <td>0.007652</td>\n",
       "      <td>0.201389</td>\n",
       "      <td>6</td>\n",
       "      <td>8767810</td>\n",
       "      <td>1</td>\n",
       "      <td>0.075758</td>\n",
       "      <td>0.142857</td>\n",
       "      <td>1.0</td>\n",
       "      <td>0.0</td>\n",
       "      <td>0.0</td>\n",
       "    </tr>\n",
       "    <tr>\n",
       "      <th>1</th>\n",
       "      <td>3</td>\n",
       "      <td>0.019125</td>\n",
       "      <td>0.033056</td>\n",
       "      <td>0</td>\n",
       "      <td>9072820</td>\n",
       "      <td>0</td>\n",
       "      <td>0.058824</td>\n",
       "      <td>0.166667</td>\n",
       "      <td>1.0</td>\n",
       "      <td>0.0</td>\n",
       "      <td>0.0</td>\n",
       "    </tr>\n",
       "    <tr>\n",
       "      <th>2</th>\n",
       "      <td>1</td>\n",
       "      <td>0.003814</td>\n",
       "      <td>16.411111</td>\n",
       "      <td>21</td>\n",
       "      <td>34799780</td>\n",
       "      <td>0</td>\n",
       "      <td>0.160714</td>\n",
       "      <td>0.222222</td>\n",
       "      <td>1.0</td>\n",
       "      <td>0.0</td>\n",
       "      <td>1.0</td>\n",
       "    </tr>\n",
       "  </tbody>\n",
       "</table>\n",
       "</div>"
      ]
     },
     "execution_count": 290,
     "metadata": {},
     "output_type": "execute_result"
    }
   ],
   "source": [
    "qnsData[qnsData.columns.difference(['DayOfWeek','Title','ClosedDate','CreationDate','Body','Unnamed: 0','OwnerUserId'])][:3]"
   ]
  },
  {
   "cell_type": "code",
   "execution_count": 132,
   "metadata": {},
   "outputs": [
    {
     "data": {
      "text/html": [
       "<div>\n",
       "<table border=\"1\" class=\"dataframe\">\n",
       "  <thead>\n",
       "    <tr style=\"text-align: right;\">\n",
       "      <th></th>\n",
       "      <th>Unnamed: 0</th>\n",
       "      <th>Id</th>\n",
       "      <th>Tag</th>\n",
       "    </tr>\n",
       "  </thead>\n",
       "  <tbody>\n",
       "    <tr>\n",
       "      <th>0</th>\n",
       "      <td>72</td>\n",
       "      <td>2120</td>\n",
       "      <td>sql</td>\n",
       "    </tr>\n",
       "    <tr>\n",
       "      <th>1</th>\n",
       "      <td>73</td>\n",
       "      <td>2120</td>\n",
       "      <td>sql-server</td>\n",
       "    </tr>\n",
       "    <tr>\n",
       "      <th>2</th>\n",
       "      <td>81</td>\n",
       "      <td>2540</td>\n",
       "      <td>c</td>\n",
       "    </tr>\n",
       "    <tr>\n",
       "      <th>3</th>\n",
       "      <td>82</td>\n",
       "      <td>2540</td>\n",
       "      <td>architecture</td>\n",
       "    </tr>\n",
       "    <tr>\n",
       "      <th>4</th>\n",
       "      <td>83</td>\n",
       "      <td>2540</td>\n",
       "      <td>data-structures</td>\n",
       "    </tr>\n",
       "    <tr>\n",
       "      <th>5</th>\n",
       "      <td>88</td>\n",
       "      <td>2630</td>\n",
       "      <td>powershell</td>\n",
       "    </tr>\n",
       "    <tr>\n",
       "      <th>6</th>\n",
       "      <td>89</td>\n",
       "      <td>2630</td>\n",
       "      <td>cmdlets</td>\n",
       "    </tr>\n",
       "    <tr>\n",
       "      <th>7</th>\n",
       "      <td>90</td>\n",
       "      <td>2750</td>\n",
       "      <td>optimization</td>\n",
       "    </tr>\n",
       "    <tr>\n",
       "      <th>8</th>\n",
       "      <td>91</td>\n",
       "      <td>2750</td>\n",
       "      <td>setter</td>\n",
       "    </tr>\n",
       "    <tr>\n",
       "      <th>9</th>\n",
       "      <td>92</td>\n",
       "      <td>2750</td>\n",
       "      <td>getter</td>\n",
       "    </tr>\n",
       "  </tbody>\n",
       "</table>\n",
       "</div>"
      ],
      "text/plain": [
       "<div>\n",
       "<table border=\"1\" class=\"dataframe\">\n",
       "  <thead>\n",
       "    <tr style=\"text-align: right;\">\n",
       "      <th></th>\n",
       "      <th>Unnamed: 0</th>\n",
       "      <th>Id</th>\n",
       "      <th>Tag</th>\n",
       "    </tr>\n",
       "  </thead>\n",
       "  <tbody>\n",
       "    <tr>\n",
       "      <th>0</th>\n",
       "      <td>72</td>\n",
       "      <td>2120</td>\n",
       "      <td>sql</td>\n",
       "    </tr>\n",
       "    <tr>\n",
       "      <th>1</th>\n",
       "      <td>73</td>\n",
       "      <td>2120</td>\n",
       "      <td>sql-server</td>\n",
       "    </tr>\n",
       "    <tr>\n",
       "      <th>2</th>\n",
       "      <td>81</td>\n",
       "      <td>2540</td>\n",
       "      <td>c</td>\n",
       "    </tr>\n",
       "    <tr>\n",
       "      <th>3</th>\n",
       "      <td>82</td>\n",
       "      <td>2540</td>\n",
       "      <td>architecture</td>\n",
       "    </tr>\n",
       "    <tr>\n",
       "      <th>4</th>\n",
       "      <td>83</td>\n",
       "      <td>2540</td>\n",
       "      <td>data-structures</td>\n",
       "    </tr>\n",
       "    <tr>\n",
       "      <th>5</th>\n",
       "      <td>88</td>\n",
       "      <td>2630</td>\n",
       "      <td>powershell</td>\n",
       "    </tr>\n",
       "    <tr>\n",
       "      <th>6</th>\n",
       "      <td>89</td>\n",
       "      <td>2630</td>\n",
       "      <td>cmdlets</td>\n",
       "    </tr>\n",
       "    <tr>\n",
       "      <th>7</th>\n",
       "      <td>90</td>\n",
       "      <td>2750</td>\n",
       "      <td>optimization</td>\n",
       "    </tr>\n",
       "    <tr>\n",
       "      <th>8</th>\n",
       "      <td>91</td>\n",
       "      <td>2750</td>\n",
       "      <td>setter</td>\n",
       "    </tr>\n",
       "    <tr>\n",
       "      <th>9</th>\n",
       "      <td>92</td>\n",
       "      <td>2750</td>\n",
       "      <td>getter</td>\n",
       "    </tr>\n",
       "  </tbody>\n",
       "</table>\n",
       "</div>"
      ]
     },
     "execution_count": 132,
     "metadata": {},
     "output_type": "execute_result"
    }
   ],
   "source": [
    "tagsData[:10]"
   ]
  },
  {
   "cell_type": "code",
   "execution_count": 56,
   "metadata": {},
   "outputs": [
    {
     "data": {
      "image/png": "[encoded data removed]",
      "text/plain": [
       "<matplotlib.figure.Figure at 0x1435096a0>"
      ]
     },
     "metadata": {},
     "output_type": "display_data"
    }
   ],
   "source": [
    "qnScores = qnsData['Score']\n",
    "# plt.hist(qnScores)\n",
    "plt.hist(qnScores, 30, range=[50, 200], facecolor='gray', align='mid')\n",
    "# plt.scatter(qnsData['Score'].index,qnsData['Score'].values)\n",
    "plt.show()"
   ]
  }
 ],
 "metadata": {
  "kernelspec": {
   "display_name": "Python 2",
   "language": "python",
   "name": "python2"
  },
  "language_info": {
   "codemirror_mode": {
    "name": "ipython",
    "version": 2.0
   },
   "file_extension": ".py",
   "mimetype": "text/x-python",
   "name": "python",
   "nbconvert_exporter": "python",
   "pygments_lexer": "ipython2",
   "version": "2.7.6"
  }
 },
 "nbformat": 4,
 "nbformat_minor": 0
}